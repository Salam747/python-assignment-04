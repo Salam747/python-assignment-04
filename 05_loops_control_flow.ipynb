{
  "cells": [
    {
      "cell_type": "markdown",
      "metadata": {
        "id": "view-in-github",
        "colab_type": "text"
      },
      "source": [
        "<a href=\"https://colab.research.google.com/github/Salam747/python-assignment-04/blob/main/05_loops_control_flow.ipynb\" target=\"_parent\"><img src=\"https://colab.research.google.com/assets/colab-badge.svg\" alt=\"Open In Colab\"/></a>"
      ]
    },
    {
      "cell_type": "code",
      "execution_count": null,
      "metadata": {
        "colab": {
          "base_uri": "https://localhost:8080/"
        },
        "id": "62oMtascKNn6",
        "outputId": "a5800774-4075-4b8d-8a11-8b49213b0289"
      },
      "outputs": [
        {
          "name": "stdout",
          "output_type": "stream",
          "text": [
            "I'm thinking of a number between 1 and 99.\n",
            "Please enter a valid number.\n",
            "Your guess is too low.\n",
            "\n",
            "Your guess is too low.\n",
            "\n",
            "Your guess is too low.\n",
            "\n",
            "Your guess is too low.\n",
            "\n",
            "Please enter a valid number.\n"
          ]
        }
      ],
      "source": [
        "# 00_guess_my_number\n",
        "import random\n",
        "\n",
        "# Function to get valid integer input from user\n",
        "def get_valid_guess(prompt):\n",
        "    while True:\n",
        "        try:\n",
        "            return int(input(prompt))\n",
        "        except ValueError:\n",
        "            print(\"Please enter a valid number.\")\n",
        "\n",
        "def main():\n",
        "    # Generate the secret number at random.\n",
        "    secret_number = random.randint(1, 99)\n",
        "    print(\"I'm thinking of a number between 1 and 99.\")\n",
        "\n",
        "    # Use the input validation function\n",
        "    guess = get_valid_guess(\"Guess the number: \")\n",
        "\n",
        "    # Loop until the guess is correct\n",
        "    while guess != secret_number:\n",
        "        if guess < secret_number:\n",
        "            print(\"Your guess is too low.\")\n",
        "        else:\n",
        "            print(\"Your guess is too high.\")\n",
        "\n",
        "        print()  # Empty line to tidy up the console\n",
        "        guess = get_valid_guess(\"Enter a new guess: \")\n",
        "\n",
        "    print(\"Congrats! The number was \" + str(secret_number))\n",
        "\n",
        "if __name__ == \"__main__\":\n",
        "    main()\n"
      ]
    },
    {
      "cell_type": "code",
      "execution_count": 4,
      "metadata": {
        "colab": {
          "base_uri": "https://localhost:8080/"
        },
        "id": "RWAD2vzHqFAC",
        "outputId": "bbe78942-7c93-45e5-ec58-5f972cfa44cf"
      },
      "outputs": [
        {
          "output_type": "stream",
          "name": "stdout",
          "text": [
            "0\n",
            "1\n",
            "1\n",
            "2\n",
            "3\n",
            "5\n",
            "8\n",
            "13\n",
            "21\n",
            "34\n",
            "55\n",
            "89\n",
            "144\n",
            "233\n",
            "377\n",
            "610\n",
            "987\n",
            "1597\n",
            "2584\n",
            "4181\n",
            "6765\n"
          ]
        }
      ],
      "source": [
        "# 01_fibonacci\n",
        "\n",
        "MAX_TERM_VALUE: int = 10000\n",
        "\n",
        "def main():\n",
        "    current_term = 0    # 0 is Fibonacci number.\n",
        "    next_term = 1       # 1 is Fibonacci number.\n",
        "\n",
        "    while current_term < MAX_TERM_VALUE:\n",
        "        print(current_term)\n",
        "        current_term, next_term = next_term, current_term + next_term\n",
        "\n",
        "if __name__ == \"__main__\":\n",
        "    main()\n",
        "\n"
      ]
    },
    {
      "cell_type": "code",
      "source": [
        "# 02_print_events\n",
        "\n",
        "def main():\n",
        "  for i in range(20):  # here is for loop start at 0 and count  up to 19  .. total number is 20..\n",
        "\n",
        "   print(i * 2)  # i value inside the for loop\n",
        "\n",
        "if __name__ == \"__main__\":   # call main func..\n",
        "  main()"
      ],
      "metadata": {
        "colab": {
          "base_uri": "https://localhost:8080/"
        },
        "id": "luWm8-ztClwk",
        "outputId": "4860bed3-bdf6-466d-f06c-b8efd6be806c"
      },
      "execution_count": 7,
      "outputs": [
        {
          "output_type": "stream",
          "name": "stdout",
          "text": [
            "0\n",
            "2\n",
            "4\n",
            "6\n",
            "8\n",
            "10\n",
            "12\n",
            "14\n",
            "16\n",
            "18\n",
            "20\n",
            "22\n",
            "24\n",
            "26\n",
            "28\n",
            "30\n",
            "32\n",
            "34\n",
            "36\n",
            "38\n"
          ]
        }
      ]
    },
    {
      "cell_type": "code",
      "source": [
        "# 03_wholesome_machine\n",
        "\n",
        "AFFIRMATION : str = (\"I'm capable of doing anything i put my mind to. \")\n",
        "\n",
        "def main():\n",
        "  print(\"Type the following affirmation: \" + AFFIRMATION)\n",
        "\n",
        "  user_feedback = input()  # here get user's inpu\n",
        "\n",
        "  # While the user's input isn't the affirmation\n",
        "  while user_feedback != AFFIRMATION:\n",
        "\n",
        "      # Tell the user that they did not type the affirmation correctly\n",
        "      print(\"That was not a affirmation \")\n",
        "\n",
        "\n",
        "     # Ask the user to type the affirmation again!\n",
        "      print(\"Type the following affirmation: \" + AFFIRMATION)\n",
        "\n",
        "      user_feedback = input()\n",
        "\n",
        "  print(\"that's right\")\n",
        "\n",
        "if __name__ == \"__main__\":\n",
        "  main()"
      ],
      "metadata": {
        "colab": {
          "base_uri": "https://localhost:8080/"
        },
        "id": "VWp_9Oo-D9t4",
        "outputId": "030a1172-e087-40e1-f0c4-3602455bd1d4"
      },
      "execution_count": 11,
      "outputs": [
        {
          "output_type": "stream",
          "name": "stdout",
          "text": [
            "Type the following affirmation: I'm capable of doing anything i put my mind to. \n",
            "hy\n",
            "That was not a affirmation \n",
            "Type the following affirmation: I'm capable of doing anything i put my mind to. \n",
            "I'm capable of doing anything i put my mind to. \n",
            "that's right\n"
          ]
        }
      ]
    },
    {
      "cell_type": "code",
      "source": [
        "# 04_liftoff\n",
        "\n",
        "def main():\n",
        "  for i in range(10):\n",
        "    print(10 - i, end=\" \")  # Print the countdown number followed by a space\n",
        "  print(\"Liftoff! \")  # Print \"Liftoff!\" after the countdown\n",
        "\n",
        "if __name__ == \"__main__\":\n",
        "  main()"
      ],
      "metadata": {
        "colab": {
          "base_uri": "https://localhost:8080/"
        },
        "id": "-7F6mV_gIfkI",
        "outputId": "879e06df-3377-4cb0-cd78-2fa600ec3785"
      },
      "execution_count": 15,
      "outputs": [
        {
          "output_type": "stream",
          "name": "stdout",
          "text": [
            "10 9 8 7 6 5 4 3 2 1 Liftoff!\n"
          ]
        }
      ]
    },
    {
      "cell_type": "code",
      "source": [
        "# 05_double_it\n",
        "\n",
        "def main():\n",
        "   current_val = int(input(\"Enter a number: \"))\n",
        "\n",
        "   while current_val < 100:\n",
        "       print(current_val * 2)\n",
        "\n",
        "       current_val = current_val * 2\n",
        "\n",
        "if __name__ == \"__main__\":\n",
        "  main()\n"
      ],
      "metadata": {
        "colab": {
          "base_uri": "https://localhost:8080/"
        },
        "id": "Ux6r1zNEJwqR",
        "outputId": "8ee06487-c369-49c6-db59-d1e173a9b58c"
      },
      "execution_count": 23,
      "outputs": [
        {
          "output_type": "stream",
          "name": "stdout",
          "text": [
            "Enter a number: 7\n",
            "14\n",
            "28\n",
            "56\n",
            "112\n"
          ]
        }
      ]
    }
  ],
  "metadata": {
    "colab": {
      "provenance": [],
      "authorship_tag": "ABX9TyMRxu4zvzX+6w+X8SNtZQeX",
      "include_colab_link": true
    },
    "kernelspec": {
      "display_name": "Python 3",
      "name": "python3"
    },
    "language_info": {
      "name": "python"
    }
  },
  "nbformat": 4,
  "nbformat_minor": 0
}