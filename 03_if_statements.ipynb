{
  "nbformat": 4,
  "nbformat_minor": 0,
  "metadata": {
    "colab": {
      "provenance": [],
      "authorship_tag": "ABX9TyNCxh3X+pD5UsESSGdlIIEw",
      "include_colab_link": true
    },
    "kernelspec": {
      "name": "python3",
      "display_name": "Python 3"
    },
    "language_info": {
      "name": "python"
    }
  },
  "cells": [
    {
      "cell_type": "markdown",
      "metadata": {
        "id": "view-in-github",
        "colab_type": "text"
      },
      "source": [
        "<a href=\"https://colab.research.google.com/github/Salam747/python-assignment-04/blob/main/03_if_statements.ipynb\" target=\"_parent\"><img src=\"https://colab.research.google.com/assets/colab-badge.svg\" alt=\"Open In Colab\"/></a>"
      ]
    },
    {
      "cell_type": "code",
      "execution_count": null,
      "metadata": {
        "colab": {
          "base_uri": "https://localhost:8080/"
        },
        "id": "xEccZN-ifBfT",
        "outputId": "b4ef49c2-a398-4405-9211-469137f79eb9"
      },
      "outputs": [
        {
          "output_type": "stream",
          "name": "stdout",
          "text": [
            "0\n",
            "2\n",
            "4\n",
            "6\n",
            "8\n",
            "10\n",
            "12\n",
            "14\n",
            "16\n",
            "18\n",
            "20\n",
            "22\n",
            "24\n",
            "26\n",
            "28\n",
            "30\n",
            "32\n",
            "34\n",
            "36\n",
            "38\n"
          ]
        }
      ],
      "source": [
        "# 01_print_events\n",
        "\n",
        "def main():\n",
        "  # This for-loop start at 0 and counts up to 19 (for a total of 20 numbers)\n",
        "  for i in range(20):\n",
        "    print(i * 2)  # Use the 'i' value inside the for-loop\n",
        "\n",
        "\n",
        "    # calll the main func\n",
        "if __name__ == \"__main__\":\n",
        "  main()"
      ]
    },
    {
      "cell_type": "code",
      "source": [
        "# 02_international_voting_age\n",
        "\n",
        "PETURKSBOUIPO_AGE : int = 16\n",
        "STANLAU_AGE : int = 25\n",
        "MAYENGUA_AGE : int = 48\n",
        "\n",
        "def main():\n",
        "  # get the user's age\n",
        "  user_age: int = int(input(\"How old are you? \"))\n",
        "\n",
        "  # Check if the user can vote in Peturksbouipo\n",
        "  if user_age >= PETURKSBOUIPO_AGE:\n",
        "    print(\"You can vote in Peturksbouipo where the voting age is \" + str(PETURKSBOUIPO_AGE) + \".\")\n",
        "  else:\n",
        "   print(\"You can not vote in peturksbouipo whre the voting age is \" + str(PETURKSBOUIPO_AGE) + \".\")\n",
        "\n",
        " # Check if the user can vote in Stanlau\n",
        "  if user_age >= STANLAU_AGE:\n",
        "   print(\"You can vote in Stanlau where the voting age is \" + str(STANLAU_AGE) + \".\")\n",
        "  else:\n",
        "    print(\"You cannot vote in Stanlau where the voting age is \" + str(STANLAU_AGE) + \".\")\n",
        "\n",
        "  # Check if user can vote in Mayengua\n",
        "  if user_age >= MAYENGUA_AGE:\n",
        "    print(\"You can vote in Mayengua where the voting age is \" + str(MAYENGUA_AGE) + \".\")\n",
        "  else:\n",
        "     print(\"You can not vote in Mayengua where voting age is \" + str(MAYENGUA_AGE) + \".\")\n",
        "\n",
        "\n",
        "if __name__ == '__main__':\n",
        "    main()"
      ],
      "metadata": {
        "colab": {
          "base_uri": "https://localhost:8080/"
        },
        "id": "qmt6x0EBgKAs",
        "outputId": "f85d9cce-60f2-4056-f7c9-74176f5817b2"
      },
      "execution_count": null,
      "outputs": [
        {
          "output_type": "stream",
          "name": "stdout",
          "text": [
            "How old are you? 25\n",
            "You can vote in Peturksbouipo where the voting age is 16.\n",
            "You can vote in Stanlau where the voting age is 25.\n",
            "You can not vote in Mayengua where voting age is 48.\n"
          ]
        }
      ]
    },
    {
      "cell_type": "code",
      "source": [
        "# 03_leap_year\n",
        "\n",
        "def main():\n",
        "  year = int(input(\"Enter a year: \"))\n",
        "\n",
        "  if year % 4 == 0:\n",
        "    if year % 100 == 0:\n",
        "      if year % 400 == 0:\n",
        "        print(\"That's a leap year!\")\n",
        "\n",
        "      else:\n",
        "        print(\"That's not a leap year!\")\n",
        "    else:\n",
        "       print(\"That's a leap year!\")\n",
        "  else:\n",
        "   print(\"That's not a leap year!\")\n",
        "\n",
        "if __name__ == \"__main__\":\n",
        "  main()"
      ],
      "metadata": {
        "id": "Z288r4qtl8i0",
        "colab": {
          "base_uri": "https://localhost:8080/"
        },
        "outputId": "50b39e2f-9e36-43fa-d018-6fd714a55e45"
      },
      "execution_count": null,
      "outputs": [
        {
          "output_type": "stream",
          "name": "stdout",
          "text": [
            "Enter a year: 100\n",
            "That's not a leap year!\n"
          ]
        }
      ]
    },
    {
      "cell_type": "code",
      "source": [
        "# 04_tall_enough_to_ride\n",
        "\n",
        "MINIMUM_HEIGHT : int = 50  # arbitrary units ..\n",
        "\n",
        "def main():\n",
        "  highiet = int(input(\"How tall are you ? \"))\n",
        "  if highiet >= MINIMUM_HEIGHT:\n",
        "    print(\"You are tall enough to ride! \")\n",
        "\n",
        "  else:\n",
        "    print(\"You are not tall enough to ride, but maybe next year! \")\n",
        "\n",
        "if __name__ == \"__main__\":\n",
        "  main()"
      ],
      "metadata": {
        "colab": {
          "base_uri": "https://localhost:8080/"
        },
        "id": "ySo7_UFFfVls",
        "outputId": "906b28eb-e17c-40cf-99aa-d355e12937c5"
      },
      "execution_count": null,
      "outputs": [
        {
          "output_type": "stream",
          "name": "stdout",
          "text": [
            "How tall are you ? 25\n",
            "You are not tall enough to ride, but maybe next year! \n"
          ]
        }
      ]
    },
    {
      "cell_type": "code",
      "source": [
        "# 05_random_numbers\n",
        "\n",
        "import random\n",
        "\n",
        "N_NUMBERS: int = 10\n",
        "MIN_VALUE: int = 1\n",
        "MAX_VALUE: int = 100\n",
        "\n",
        "\n",
        "def main():\n",
        "    for _ in range(N_NUMBERS):\n",
        "        random_number = random.randint(MIN_VALUE, MAX_VALUE)\n",
        "        print(random_number, end=\" \")  # Print with a space separator\n",
        "    print()  # Print a newline at the end\n",
        "\n",
        "if __name__ == '__main__':\n",
        "    main()\n"
      ],
      "metadata": {
        "colab": {
          "base_uri": "https://localhost:8080/"
        },
        "id": "tufdRc8Eg1EV",
        "outputId": "a5d0a986-ffce-4a93-b1b7-68a9007fafcc"
      },
      "execution_count": null,
      "outputs": [
        {
          "output_type": "stream",
          "name": "stdout",
          "text": [
            "90 9 89 66 83 44 64 63 57 53 \n"
          ]
        }
      ]
    }
  ]
}