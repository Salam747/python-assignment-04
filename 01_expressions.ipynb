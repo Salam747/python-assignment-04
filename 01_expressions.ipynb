{
  "cells": [
    {
      "cell_type": "markdown",
      "metadata": {
        "id": "view-in-github",
        "colab_type": "text"
      },
      "source": [
        "<a href=\"https://colab.research.google.com/github/Salam747/python-assignment-04/blob/main/01_expressions.ipynb\" target=\"_parent\"><img src=\"https://colab.research.google.com/assets/colab-badge.svg\" alt=\"Open In Colab\"/></a>"
      ]
    },
    {
      "cell_type": "code",
      "execution_count": null,
      "metadata": {
        "colab": {
          "base_uri": "https://localhost:8080/"
        },
        "id": "3pQwOiwwO8I4",
        "outputId": "35e63746-a56a-4b23-a061-d1cc9666ac99"
      },
      "outputs": [
        {
          "name": "stdout",
          "output_type": "stream",
          "text": [
            "Total of 2 diec :  8\n",
            "die1 is main() is: 6\n",
            "die1 in main() starts as: 10\n"
          ]
        }
      ],
      "source": [
        "# 01_dicesimulator\n",
        "\n",
        "# random libraray\n",
        "import random\n",
        "\n",
        "NUM_SIDES = 6\n",
        "\n",
        "def roll_dice():\n",
        "\n",
        "  \"\"\"\n",
        "  Simulates rolling two dice and prints their total\n",
        "  \"\"\"\n",
        "die1: int = random.randint(1, NUM_SIDES)\n",
        "die2: int = random.randint(1, NUM_SIDES)\n",
        "\n",
        "total = die1 + die2\n",
        "\n",
        "print(f\"Total of 2 diec : \", total)\n",
        "\n",
        "\n",
        "def main():\n",
        "  die1: int = 10\n",
        "  print(\"die1 in main() starts as: \" + str (die1))\n",
        "\n",
        "roll_dice()\n",
        "roll_dice()\n",
        "roll_dice()\n",
        "\n",
        "print(\"die1 is main() is: \" + str(die1))\n",
        "\n",
        "if __name__ == \"__main__\":\n",
        "  main()\n"
      ]
    },
    {
      "cell_type": "code",
      "execution_count": null,
      "metadata": {
        "colab": {
          "base_uri": "https://localhost:8080/"
        },
        "id": "TcofWCneMQFA",
        "outputId": "92fadc06-f9f7-42a5-82a8-459d6f4e15a0"
      },
      "outputs": [
        {
          "name": "stdout",
          "output_type": "stream",
          "text": [
            "Enter killos of mass 1\n",
            "e = m * C^2...\n",
            "m = 1.0 kg \n",
            "C = 299792458 m/s \n",
            "8.987551787368176e+16 joules of energy. \n"
          ]
        }
      ],
      "source": [
        "# 02_e=mc2\n",
        "\n",
        "C: int = 299792458  # The speed of light in m/s\n",
        "\n",
        "def main():\n",
        "  mass_in_kg: float = float(input(\"Enter killos of mass \"))\n",
        "\n",
        "  energy_in_joules: float = mass_in_kg *(C ** 2)\n",
        "\n",
        "\n",
        "  # Display work to the user..\n",
        "  print(\"e = m * C^2...\")\n",
        "  print(\"m = \" + str(mass_in_kg) + \" kg \")\n",
        "  print(\"C = \" + str(C) + \" m/s \")\n",
        "\n",
        "  print(str(energy_in_joules) + \" joules of energy. \")\n",
        "\n",
        "if __name__ == \"__main__\":\n",
        "  main()\n"
      ]
    },
    {
      "cell_type": "code",
      "execution_count": null,
      "metadata": {
        "colab": {
          "base_uri": "https://localhost:8080/"
        },
        "id": "kkuQ5gvoRFGr",
        "outputId": "6592823c-8ef9-4a25-f149-4086c57a47e2"
      },
      "outputs": [
        {
          "name": "stdout",
          "output_type": "stream",
          "text": [
            "Enter feet: 12\n",
            "That is  144.0 inches.\n"
          ]
        }
      ],
      "source": [
        "# 03_feet_to_inches\n",
        "INCHES_IN_FOOT: int = 12\n",
        "\n",
        "def main():\n",
        "  feet:float = float(input(\"Enter feet: \"))\n",
        "  inches: float = feet * INCHES_IN_FOOT  # Perform the conversion\n",
        "  print(\"That is \", inches, \"inches.\")\n",
        "\n",
        "\n",
        "# to call the main function\n",
        "if __name__ == \"__main__\" :\n",
        " main()"
      ]
    },
    {
      "cell_type": "code",
      "execution_count": null,
      "metadata": {
        "colab": {
          "background_save": true
        },
        "id": "uTZHd_-lUipT",
        "outputId": "d90bb37f-b1ff-4a0b-fe5b-a4a73b078b5c"
      },
      "outputs": [
        {
          "name": "stdout",
          "output_type": "stream",
          "text": [
            "The length of BC (the hypotenuse) is: 2.8284271247461903\n"
          ]
        }
      ],
      "source": [
        "# 04_pythagorean_theorem\n",
        "\n",
        "import math # Import the math library\n",
        "\n",
        "def main():\n",
        "  ab: float = float(input(\"Enter the length of AB: \"))\n",
        "  ac: float = float(input(\"Enter the length of AC: \"))\n",
        "\n",
        "# colculate the hypotenuse  using the two sides and print it out...\n",
        "  bc: float = math.sqrt(ab ** 2 + ac ** 2)\n",
        "print(\"The length of BC (the hypotenuse) is: \" + str(bc))\n",
        "\n",
        "if __name__ == '__main__':\n",
        "  main()"
      ]
    },
    {
      "cell_type": "code",
      "execution_count": null,
      "metadata": {
        "id": "RQu19GtyBRdJ"
      },
      "outputs": [],
      "source": [
        "# 05_remainder_division\n",
        "\n",
        "def main():\n",
        "     dividend: int = int(input(\"Enter an iteger to be divided: \"))\n",
        "     divisor: int = int(input(\"Enter an integer to divided by: \"))\n",
        "\n",
        "     quotient: int = dividend // divisor\n",
        "     remainder: int = dividend % divisor\n",
        "\n",
        "     print(\"The result of this division \" + str(quotient) + \" With a reminder of \" + str(remainder))\n",
        "\n",
        "if __name__ == '__main__':\n",
        "    main()"
      ]
    },
    {
      "cell_type": "code",
      "source": [
        "# 06_rolldice\n",
        "\n",
        "import random\n",
        "\n",
        "NUM_SIDES: int = 6\n",
        "\n",
        "def main():\n",
        "  die1: int = random.randint(1, NUM_SIDES)\n",
        "  die2: int = random.randint(1,NUM_SIDES)\n",
        "\n",
        "  # get total\n",
        "  total: int = die1 + die2\n",
        "\n",
        "  # print result\n",
        "  print(\"Dice \", NUM_SIDES, \"sides each. \")\n",
        "  print(\"First die: \", die1)\n",
        "  print(\"Second die: \", die2)\n",
        "  print(\"Total: \", total)\n",
        "\n",
        "if __name__ == \"__main__\":\n",
        "  main()\n",
        "\n",
        "#\n"
      ],
      "metadata": {
        "colab": {
          "base_uri": "https://localhost:8080/"
        },
        "id": "GwUO-jAnEc9n",
        "outputId": "0afb7671-2559-4d5a-f981-94370e947922"
      },
      "execution_count": null,
      "outputs": [
        {
          "output_type": "stream",
          "name": "stdout",
          "text": [
            "Dice  6 sides each. \n",
            "First die:  1\n",
            "Second die:  6\n",
            "Total:  7\n"
          ]
        }
      ]
    },
    {
      "cell_type": "code",
      "source": [
        "# 07_seconds_in_year\n",
        "\n",
        "DAYS_PER_YEAR: int = 365\n",
        "HOURS_PER_DAY: int = 24\n",
        "MINUTES_PER_HOUR: int = 60\n",
        "SECONDS_PER_MINUTES: int = 60\n",
        "\n",
        "def main():\n",
        "# We can get the number of seconds per year by multiplying the handy constants above!\n",
        "  print(\"There are \" + str(DAYS_PER_YEAR * HOURS_PER_DAY * MINUTES_PER_HOUR * SECONDS_PER_MINUTES) + \" Seconds in a\" )\n",
        "\n",
        "if __name__ == '__main__':\n",
        "    main()"
      ],
      "metadata": {
        "colab": {
          "base_uri": "https://localhost:8080/"
        },
        "id": "GVrnpALBKN0-",
        "outputId": "b8b7e0c8-6254-49ac-d550-76efee804650"
      },
      "execution_count": null,
      "outputs": [
        {
          "output_type": "stream",
          "name": "stdout",
          "text": [
            "There are 31536000 Seconds in a\n"
          ]
        }
      ]
    },
    {
      "cell_type": "code",
      "source": [
        "# 08_tiny_mad_lib\n",
        "\n",
        "SENTENCE_START: str = \"Panaversity is fun. I learned to program and used Python to make my \"\n",
        "\n",
        "def main():\n",
        "  # get three input from user...\n",
        "  adjective: str = input(\"type an adjective and press enter: \")\n",
        "  noun: str = input(\"type noun and press enter: \")\n",
        "  verb: str = input(\"type verb and press enter: \")\n",
        "\n",
        "   # Join the inputs together with the sentence starter..\n",
        "  print(SENTENCE_START + adjective + \" \" + noun + \" \" + verb + \" .\")\n",
        "\n",
        "\n",
        "if __name__ == \"__main__\":\n",
        "  main()\n",
        "\n",
        "\n"
      ],
      "metadata": {
        "colab": {
          "base_uri": "https://localhost:8080/"
        },
        "id": "rAH8PsXMMeWI",
        "outputId": "b1f2b498-340e-46c7-87d4-6ce051b51287"
      },
      "execution_count": null,
      "outputs": [
        {
          "output_type": "stream",
          "name": "stdout",
          "text": [
            "type an adjective and press enter: a\n",
            "type noun and press enter: b\n",
            "type verb and press enter: c\n",
            "Panaversity is fun. I learned to program and used Python to make my a b c .\n"
          ]
        }
      ]
    }
  ],
  "metadata": {
    "colab": {
      "provenance": [],
      "authorship_tag": "ABX9TyOYsQUrcRc5mdmt4eBrsjHe",
      "include_colab_link": true
    },
    "kernelspec": {
      "display_name": "Python 3",
      "name": "python3"
    },
    "language_info": {
      "name": "python"
    }
  },
  "nbformat": 4,
  "nbformat_minor": 0
}