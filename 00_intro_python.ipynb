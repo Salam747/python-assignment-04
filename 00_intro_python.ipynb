{
  "nbformat": 4,
  "nbformat_minor": 0,
  "metadata": {
    "colab": {
      "provenance": [],
      "authorship_tag": "ABX9TyNgsvjLx7BeYoJpzdOfBd4i",
      "include_colab_link": true
    },
    "kernelspec": {
      "name": "python3",
      "display_name": "Python 3"
    },
    "language_info": {
      "name": "python"
    }
  },
  "cells": [
    {
      "cell_type": "markdown",
      "metadata": {
        "id": "view-in-github",
        "colab_type": "text"
      },
      "source": [
        "<a href=\"https://colab.research.google.com/github/Salam747/python-assignment-04/blob/main/00_intro_python.ipynb\" target=\"_parent\"><img src=\"https://colab.research.google.com/assets/colab-badge.svg\" alt=\"Open In Colab\"/></a>"
      ]
    },
    {
      "cell_type": "code",
      "source": [
        "# 01_add_two_numbers\n",
        "\n",
        "def main():\n",
        "  print(\"This program add two numbers.\")\n",
        "  num1 : str = input(\"Enter your first number:\")\n",
        "  num1 : int = int(num1)\n",
        "  num2 : str = input(\"Enter your second number:\")\n",
        "  num2 : int = int(num2)\n",
        "  total : int = num1 + num2\n",
        "  print(\"The total is \" + str(total) + \".\")\n",
        "\n",
        "if __name__ == \"__main__\":\n",
        " main()\n"
      ],
      "metadata": {
        "colab": {
          "base_uri": "https://localhost:8080/"
        },
        "id": "dtvtjkN7rkJQ",
        "outputId": "7a20fba4-8d0a-47f1-f8a9-593d8943b68b"
      },
      "execution_count": null,
      "outputs": [
        {
          "output_type": "stream",
          "name": "stdout",
          "text": [
            "This program add two numbers.\n",
            "Enter your first number:34\n",
            "Enter your second number:43\n",
            "The total is 77.\n"
          ]
        }
      ]
    },
    {
      "cell_type": "code",
      "source": [
        "# 02_agreement_bot\n",
        "\n",
        "def main():\n",
        "  print(\"This program asks for your favorite animal.\")\n",
        "\n",
        "  fav_animal : str = input(\"What is your favorite animal? \")\n",
        "  print(f\"My favorite animal is also {fav_animal}.\")\n",
        "\n",
        "if __name__ == \"__main__\":\n",
        "  main()"
      ],
      "metadata": {
        "colab": {
          "base_uri": "https://localhost:8080/"
        },
        "id": "Bxhj2u1Mx5F3",
        "outputId": "54b92d30-7936-4882-8469-2aba1f6f0942"
      },
      "execution_count": null,
      "outputs": [
        {
          "output_type": "stream",
          "name": "stdout",
          "text": [
            "This program asks for your favorite animal.\n",
            "What is your favorite animal? goat\n",
            "My favorite animal is also goat.\n"
          ]
        }
      ]
    },
    {
      "cell_type": "code",
      "source": [
        "# 03_fahrenheit_to_celsius\n",
        "\n",
        "def temperature():\n",
        "  fahhrenheit: float = float(input(\"Enter the temperature in Fahrenheit: \"))\n",
        "  celsius: float = (fahhrenheit - 32) *5.0 / 9.0\n",
        "  print(f\"Temperature: {fahhrenheit:.1f}F = {celsius}C\")\n",
        "\n",
        "if __name__ == \"__main__\":\n",
        "  temperature()\n"
      ],
      "metadata": {
        "colab": {
          "base_uri": "https://localhost:8080/"
        },
        "id": "h7-HoVyA5SU_",
        "outputId": "b95f0be7-3716-4b27-a195-f032c64f7a3d"
      },
      "execution_count": null,
      "outputs": [
        {
          "output_type": "stream",
          "name": "stdout",
          "text": [
            "Enter the temperature in Fahrenheit: 35\n",
            "Temperature: 35.0F = 1.6666666666666667C\n"
          ]
        }
      ]
    },
    {
      "cell_type": "code",
      "source": [
        "# 04_how_old_are_they\n",
        "\n",
        "def ages():\n",
        "  anton: int = 21  # Anton's age is given as 21 years old...\n",
        "  beth: int = 6 + anton   # Beth is 6 years older than Anton, so add 6 to Anton's age to get Beth's...\n",
        "  chen: int = 20 + beth   # Chen is 20 years older than Beth, so add 20 to Beth's age to get Chen's\n",
        "  drew: int = chen + anton  # Drew is as old as Chen's age plus Anton's age, so add them together\n",
        "  ethan: int = chen  # Ethan is the same age as Chen, so set Ethan's age equal to Chen's\n",
        "\n",
        "\n",
        "  # print all ages .\n",
        "\n",
        "  print(\"Anton is \" + str(anton))\n",
        "  print(\"Beth is \" + str(beth))\n",
        "  print(\"chen is \" + str(chen))\n",
        "  print(\"drew is \" + str(drew))\n",
        "  print(\"ethan is \" + str(ethan))\n",
        "\n",
        "\n",
        "if __name__ == \"__main__\" :\n",
        "  ages()\n",
        "\n"
      ],
      "metadata": {
        "colab": {
          "base_uri": "https://localhost:8080/"
        },
        "id": "DGukQJ7o9le3",
        "outputId": "1e41bea4-4e75-481a-ae83-1db5a246c757"
      },
      "execution_count": null,
      "outputs": [
        {
          "output_type": "stream",
          "name": "stdout",
          "text": [
            "Anton is 21\n",
            "Beth is 27\n",
            "chen is 47\n",
            "drew is 68\n",
            "ethan is 47\n"
          ]
        }
      ]
    },
    {
      "cell_type": "code",
      "source": [
        "# 05_triangle_perimeter\n",
        "\n",
        "def triangle():\n",
        "  # 3 side lengths of the triangle\n",
        "  side1: float = float(input(\"Enter the length of side 1:\"))\n",
        "  side2: float = float(input(\"Enter the length of side 2:\"))\n",
        "  side3: float = float(input(\"Enter the length of side 3:\"))\n",
        "\n",
        "  print(\"The paramiter triangle is \" + str(side1 + side2 + side3))\n",
        "\n",
        "if __name__ == \"__main__\":\n",
        "  triangle()\n"
      ],
      "metadata": {
        "colab": {
          "base_uri": "https://localhost:8080/"
        },
        "id": "e9Ze2X9wBCvf",
        "outputId": "60a150a6-c4af-4d5b-8338-947c1e064e87"
      },
      "execution_count": null,
      "outputs": [
        {
          "output_type": "stream",
          "name": "stdout",
          "text": [
            "Enter the length of side 1:3\n",
            "Enter the length of side 2:33\n",
            "Enter the length of side 3:33\n",
            "The paramiter tringke is 69.0\n"
          ]
        }
      ]
    },
    {
      "cell_type": "code",
      "source": [
        "# 06_square_number\n",
        "\n",
        "def square():\n",
        "  num: float = float(input(\"Type a number to see its square \"))\n",
        "  print(str(num) + \" square is \" + str(num ** 2))\n",
        "\n",
        "\n",
        "if __name__ == \"__main__\":\n",
        "  square()"
      ],
      "metadata": {
        "id": "GQc5AgQfDQ3-",
        "colab": {
          "base_uri": "https://localhost:8080/"
        },
        "outputId": "2d95d928-cc99-4473-c505-e180a9b6b8d1"
      },
      "execution_count": 2,
      "outputs": [
        {
          "output_type": "stream",
          "name": "stdout",
          "text": [
            "Type a number to see its square 5\n",
            "5.0 square is 25.0\n"
          ]
        }
      ]
    }
  ]
}