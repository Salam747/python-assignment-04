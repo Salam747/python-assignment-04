{
  "nbformat": 4,
  "nbformat_minor": 0,
  "metadata": {
    "colab": {
      "provenance": [],
      "authorship_tag": "ABX9TyPZLjrAaGDjPkIUKzY2+Zfu",
      "include_colab_link": true
    },
    "kernelspec": {
      "name": "python3",
      "display_name": "Python 3"
    },
    "language_info": {
      "name": "python"
    }
  },
  "cells": [
    {
      "cell_type": "markdown",
      "metadata": {
        "id": "view-in-github",
        "colab_type": "text"
      },
      "source": [
        "<a href=\"https://colab.research.google.com/github/Salam747/python-assignment-04/blob/main/04_dictionaries.ipynb\" target=\"_parent\"><img src=\"https://colab.research.google.com/assets/colab-badge.svg\" alt=\"Open In Colab\"/></a>"
      ]
    },
    {
      "cell_type": "code",
      "source": [
        "# 00_count_nums\n",
        "\n",
        "def get_user_numbers():\n",
        "    \"\"\"\n",
        "    Create an empty list.\n",
        "    Ask the user to input numbers and store them in a list.\n",
        "    Once they enter a blank line, break out of the loop and return the list.\n",
        "    \"\"\"\n",
        "    user_numbers = [] # Changed variable name to user_numbers for consistency\n",
        "    while True:\n",
        "        user_input = input(\"Enter a number \") # Added assignment for user_input\n",
        "\n",
        "        # If the user enters a blank line, break out of the loop and stop asking for input...\n",
        "        if user_input == \"\":\n",
        "            break  # Indented break statement\n",
        "\n",
        "        # convert the user input to an integer and add it to the list\n",
        "        num = int(user_input)\n",
        "        user_numbers.append(num) # Changed to user_numbers\n",
        "\n",
        "    return user_numbers # Added return statement to return the list\n",
        "\n",
        "\n",
        "def count_num(num_lst):\n",
        "    \"\"\"\n",
        "    Create an empty dictionary.\n",
        "    Loop over the list of numbers.\n",
        "    If the number is not in the dictionary, add it as a key with a value of 1.\n",
        "    If the number is in the dictionary, increment its value by 1.\n",
        "    \"\"\"\n",
        "\n",
        "    num_dict = {}\n",
        "    for num in num_lst:\n",
        "        if num not in num_dict:\n",
        "            num_dict[num] = 1\n",
        "        else:\n",
        "            num_dict[num] += 1 # Incremented the value by 1\n",
        "    return num_dict #\n",
        "\n",
        "\n",
        "def print_count(num_dict):\n",
        "    \"\"\"\n",
        "    Loop over the dictionary and print out each key and its value.\n",
        "    \"\"\"\n",
        "    for num, count in num_dict.items(): # Used items() to get key-value pairs\n",
        "        print(str(num) + \" appears \" + str(count) + \" times. \")\n",
        "\n",
        "\n",
        "def main():\n",
        "    user_numbers = get_user_numbers()\n",
        "    num_dict = count_num(user_numbers)\n",
        "    print_count(num_dict)\n",
        "\n",
        "\n",
        "if __name__ == \"__main__\":\n",
        "    main()"
      ],
      "metadata": {
        "id": "JLchzdU5k8I0",
        "colab": {
          "base_uri": "https://localhost:8080/"
        },
        "outputId": "17259529-32fe-4799-a606-ebd70167078c"
      },
      "execution_count": null,
      "outputs": [
        {
          "output_type": "stream",
          "name": "stdout",
          "text": [
            "Enter a number 1\n",
            "Enter a number 12\n",
            "Enter a number 44\n",
            "Enter a number 66\n",
            "Enter a number 87\n",
            "Enter a number \n",
            "1 appears 1 times. \n",
            "12 appears 1 times. \n",
            "44 appears 1 times. \n",
            "66 appears 1 times. \n",
            "87 appears 1 times. \n"
          ]
        }
      ]
    },
    {
      "cell_type": "code",
      "source": [
        "# 01_phonebook\n",
        "\n",
        "def read_phone_numbers():\n",
        "\n",
        "  \"\"\"\n",
        "  Ask the user for names/numbers to story in a phonebook (dictionary).\n",
        "  Returns the phonebook.\n",
        "  \"\"\"\n",
        "\n",
        "  phonebook = {}  # empty phonebook\n",
        "\n",
        "  while  True:\n",
        "    name = input(\"Name: \")\n",
        "    if name == \"\":\n",
        "      break\n",
        "    number = input(\"Number: \")\n",
        "    phonebook[name] = number\n",
        "\n",
        "  return phonebook\n",
        "\n",
        "def print_phonebook(phonebook):\n",
        "\n",
        "   \"\"\"\n",
        "   Prints out all the names/numbers in the phonebook.\n",
        "   \"\"\"\n",
        "\n",
        "   for name in phonebook :\n",
        "     print(str(name) + \" -> \" + str(phonebook[name]))\n",
        "\n",
        "\n",
        "def lookup_numbers(phonebook):\n",
        "\n",
        "   \"\"\"\n",
        "   Allow the user to lookup phone numbers in the phonebook\n",
        "   by looking up the number associated with a name.\n",
        "   \"\"\"\n",
        "   while True:\n",
        "     name = input(\"Enter name to lookup: \")\n",
        "     if name == \"\":\n",
        "       break\n",
        "\n",
        "     if name not in phonebook:\n",
        "       print(name + \" is not in the phonebook. \")\n",
        "     else:\n",
        "       print(phonebook[name])\n",
        "\n",
        "def main():\n",
        "  phonebook = read_phone_numbers()\n",
        "  print_phonebook(phonebook)\n",
        "  lookup_numbers(phonebook)\n",
        "\n",
        "if __name__ == \"__main__\":\n",
        "\n",
        "  main()"
      ],
      "metadata": {
        "id": "PDvZlmy_n1T1",
        "colab": {
          "base_uri": "https://localhost:8080/"
        },
        "outputId": "3e0dc432-188c-4088-f1f7-f9ce06c8abc1"
      },
      "execution_count": null,
      "outputs": [
        {
          "name": "stdout",
          "output_type": "stream",
          "text": [
            "Name: abdul sallam\n",
            "Number: 89844\n",
            "Name: enter\n",
            "Number: \n",
            "Name: \n",
            "abdul sallam -> 89844\n",
            "enter -> \n",
            "Enter name to lookup: abdul sallm\n",
            "abdul sallm is not in the phonebook. \n",
            "Enter name to lookup: abdul sallam\n",
            "89844\n",
            "Enter name to lookup: ee\n",
            "ee is not in the phonebook. \n",
            "Enter name to lookup: abdul sallam\n",
            "89844\n",
            "Enter name to lookup: \n"
          ]
        }
      ]
    },
    {
      "cell_type": "code",
      "source": [
        "# 02_pop_up_shop\n",
        "def main():\n",
        "  fruits = {\"apples\": 2, \"orange\": 3, \"pears\": 5, \"banana\":1, \"kiwi\": 5}\n",
        "  total_cost = 0\n",
        "\n",
        "  for fruit_name in fruits:\n",
        "    price = fruits[fruit_name]\n",
        "    amount_bought = int(input(\"How many (\" + fruit_name + \") do you want to buy?: \"))\n",
        "    total_cost += (price * amount_bought)\n",
        "  print(\"The total cost is $ : \" + str(total_cost))\n",
        "\n",
        "if __name__ == '__main__':\n",
        "    main()"
      ],
      "metadata": {
        "colab": {
          "base_uri": "https://localhost:8080/"
        },
        "id": "1YffGdF23kxO",
        "outputId": "dbb98511-37b8-4b2e-8633-61d3c52d6d50"
      },
      "execution_count": null,
      "outputs": [
        {
          "output_type": "stream",
          "name": "stdout",
          "text": [
            "How many (apples) do you want to buy?: 2\n",
            "How many (orange) do you want to buy?: 3\n",
            "How many (pears) do you want to buy?: 2\n",
            "How many (banana) do you want to buy?: 1\n",
            "How many (kiwi) do you want to buy?: 3\n",
            "The total cost is $ : 39\n"
          ]
        }
      ]
    },
    {
      "cell_type": "code",
      "source": [
        "from hashlib import sha256\n",
        "\n",
        "def login(email, stored_login, password_to_check):\n",
        "   \"\"\"\n",
        "    Returns True if the hash of the password we are checking matches the one in stored_logins\n",
        "    for a specific email. Otherwise, returns False.\n",
        "\n",
        "    email: the email we are checking the password for\n",
        "    stored_logins: a dictionary pointing from an email to its hashed password\n",
        "    password_to_check: a password we want to test alongside the email to login with\n",
        "    \"\"\"\n",
        "   if stored_login[email] == hash_password(password_to_check): # Corrected typo: paassword_to_check to password_to_check\n",
        "       return True # Corrected case sensitivity: true to True\n",
        "\n",
        "   return False\n",
        "\n",
        "def hash_password(password):\n",
        "  \"\"\"\n",
        "    Takes in a password and returns the SHA256 hashed value for that specific password.\n",
        "\n",
        "    Inputs:\n",
        "        password: the password we want\n",
        "\n",
        "    Outputs:\n",
        "        the hashed form of the input password\n",
        "    \"\"\"\n",
        "  return sha256(password.encode()).hexdigest()  # Corrected typo: ecode to encode\n",
        "\n",
        "def main():\n",
        "    # stored_logins is a dictionary with emails as keys and hashed passwords as values\n",
        "    stored_logins ={\n",
        "        \"absallam@gmail.com\": \"5e884898da28047151d0e56f8dc6292773603d0d6aabbdd62a11ef721d1542d8\",\n",
        "        \"code_in_placer@cip.org\": \"973607a4ae7b4cf7d96a100b0fb07e8519cc4f70441d41214a9f811577bb06cc\",\n",
        "        \"student@stanford.edu\": \"882c6df720fd99f5eebb1581a1cf975625cea8a160283011c0b9512bb56c95fb\"\n",
        "    }\n",
        "    print(login(\"absallam@gmail.com\", stored_logins, \"word\"))\n",
        "    print(login(\"absallam@gmail.com\", stored_logins, \"password\"))\n",
        "\n",
        "    print(login(\"student@stanford.edu\", stored_logins, \"sallam\"))\n",
        "    print(login(\"student@stanford.edu\", stored_logins, \"sallam\"))\n",
        "\n",
        "    print(login(\"code_in_placer@cip.org\", stored_logins, \"password\"))\n",
        "    print(login(\"code_in_placer@cip.org\", stored_logins, \"471111\"))\n",
        "\n",
        "if __name__ == \"__main__\":\n",
        "    main() # Calling the main function"
      ],
      "metadata": {
        "colab": {
          "base_uri": "https://localhost:8080/"
        },
        "id": "5U6YCIMK-ukr",
        "outputId": "0e1a733b-2bf8-46fa-816e-7ea7a1bb6b4f"
      },
      "execution_count": null,
      "outputs": [
        {
          "output_type": "stream",
          "name": "stdout",
          "text": [
            "False\n",
            "True\n",
            "False\n",
            "False\n",
            "False\n",
            "False\n"
          ]
        }
      ]
    }
  ]
}