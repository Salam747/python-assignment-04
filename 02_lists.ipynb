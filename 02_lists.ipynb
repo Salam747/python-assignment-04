{
  "nbformat": 4,
  "nbformat_minor": 0,
  "metadata": {
    "colab": {
      "provenance": [],
      "authorship_tag": "ABX9TyMiB+Q83iClO7fXd+u998up",
      "include_colab_link": true
    },
    "kernelspec": {
      "name": "python3",
      "display_name": "Python 3"
    },
    "language_info": {
      "name": "python"
    }
  },
  "cells": [
    {
      "cell_type": "markdown",
      "metadata": {
        "id": "view-in-github",
        "colab_type": "text"
      },
      "source": [
        "<a href=\"https://colab.research.google.com/github/Salam747/python-assignment-04/blob/main/02_lists.ipynb\" target=\"_parent\"><img src=\"https://colab.research.google.com/assets/colab-badge.svg\" alt=\"Open In Colab\"/></a>"
      ]
    },
    {
      "cell_type": "code",
      "execution_count": null,
      "metadata": {
        "colab": {
          "base_uri": "https://localhost:8080/"
        },
        "id": "G73oMhjk68an",
        "outputId": "19bfad57-3d2e-4d34-c4bd-de5fa0454bda"
      },
      "outputs": [
        {
          "output_type": "stream",
          "name": "stdout",
          "text": [
            "28\n"
          ]
        }
      ],
      "source": [
        "# 01_add_many_number\n",
        "\n",
        "def add_many_numbers(numbers)-> int:\n",
        "\n",
        "    \"\"\"\n",
        "    Takes in s lsit of numbers and return the sum of those numbers...\n",
        "    \"\"\"\n",
        "\n",
        "    total_so_far: int = 0\n",
        "\n",
        "    for number in numbers:\n",
        "\n",
        "       total_so_far += number\n",
        "\n",
        "    return total_so_far\n",
        "\n",
        "def main():\n",
        "      numbers: list[int] = [1,2,3,4,5,6,7]  # list of numbers\n",
        "      sum_of_numbers: int = add_many_numbers(numbers)\n",
        "      print(sum_of_numbers)\n",
        "\n",
        "if __name__ == \"__main__\":\n",
        "  main()"
      ]
    },
    {
      "cell_type": "code",
      "source": [
        "# 02_double_list\n",
        "\n",
        "def main():\n",
        "  numbers: list[int] = [1,2,3,4,]  # crate a list\n",
        "\n",
        "  for i in range(len(numbers)): # loop through the indices of the list\n",
        "\n",
        "      elem_at_index = numbers[i]   # Get the element at index i in the numbers list...\n",
        "\n",
        "      numbers[i] = elem_at_index *2   # Set the element at index i to be equal to the previous element times 2\n",
        "\n",
        "      print(numbers)\n",
        "\n",
        "if __name__ == \"__main__\":\n",
        "  main()\n"
      ],
      "metadata": {
        "colab": {
          "base_uri": "https://localhost:8080/"
        },
        "id": "DGw4NrF-uUi9",
        "outputId": "ca76a55d-5aae-4c36-a0ed-9a559cdc9e64"
      },
      "execution_count": null,
      "outputs": [
        {
          "output_type": "stream",
          "name": "stdout",
          "text": [
            "[2, 2, 3, 4]\n",
            "[2, 4, 3, 4]\n",
            "[2, 4, 6, 4]\n",
            "[2, 4, 6, 8]\n"
          ]
        }
      ]
    },
    {
      "cell_type": "code",
      "source": [
        "# 03_erase_canvas\n",
        "import matplotlib.pyplot as plt\n",
        "import numpy as np\n",
        "\n",
        "# Canvas size\n",
        "CANVAS_WIDTH = 400\n",
        "CANVAS_HEIGHT = 400\n",
        "\n",
        "CELL_SIZE = 400\n",
        "ERASER_SIZE = 100  # Size of eraser\n",
        "\n",
        "# Create a canvas (white background)\n",
        "canvas = np.ones((CANVAS_HEIGHT, CANVAS_WIDTH, 3))\n",
        "\n",
        "# Draw a blue square (simulating a grid cell)\n",
        "canvas[0:CELL_SIZE, 0:CELL_SIZE] = [0, 0, 1]  # RGB for blue\n",
        "\n",
        "# Function to erase a square area\n",
        "def erase_area(x, y, size=ERASER_SIZE):\n",
        "    canvas[y:y+size, x:x+size] = [1, 1, 1]  # White\n",
        "\n",
        "# Show canvas before erasing\n",
        "plt.imshow(canvas)\n",
        "plt.title(\"Before Erase\")\n",
        "plt.axis(\"off\")\n",
        "plt.show()\n",
        "\n",
        "# Simulate eraser movement (manually defined location)\n",
        "erase_x = 150\n",
        "erase_y = 150\n",
        "erase_area(erase_x, erase_y)\n",
        "\n",
        "# Show canvas after erasing\n",
        "plt.imshow(canvas)\n",
        "plt.title(\"After Erase\")\n",
        "plt.axis(\"off\")\n",
        "plt.show()\n"
      ],
      "metadata": {
        "colab": {
          "base_uri": "https://localhost:8080/",
          "height": 839
        },
        "id": "43EeBJHNxFhb",
        "outputId": "94007020-5e96-4c16-894d-d549d473a686"
      },
      "execution_count": null,
      "outputs": [
        {
          "output_type": "display_data",
          "data": {
            "text/plain": [
              "<Figure size 640x480 with 1 Axes>"
            ],
            "image/png": "[encoded data removed]"
          },
          "metadata": {}
        },
        {
          "output_type": "display_data",
          "data": {
            "text/plain": [
              "<Figure size 640x480 with 1 Axes>"
            ],
            "image/png": "[encoded data removed]"
          },
          "metadata": {}
        }
      ]
    },
    {
      "cell_type": "code",
      "source": [
        "# 04_flowing_with_data_structures\n",
        "\n",
        "def add_three_copies(my_list, data):\n",
        "  for i in range(3):\n",
        "    my_list.append(data)\n",
        "\n",
        "def main():\n",
        "     message = input(\"Enter a message to copy: \")\n",
        "     my_list = []\n",
        "     print(\"list before: \", my_list)\n",
        "     add_three_copies(my_list, message)\n",
        "     print(\"list after: \", my_list)\n",
        "if __name__ == \"__main__\":\n",
        "    main()"
      ],
      "metadata": {
        "id": "QTwijXC25mzE",
        "colab": {
          "base_uri": "https://localhost:8080/"
        },
        "outputId": "2fd7ee2b-b3e4-4205-c603-29054a5e217c"
      },
      "execution_count": null,
      "outputs": [
        {
          "output_type": "stream",
          "name": "stdout",
          "text": [
            "Enter a message to copy: hy\n",
            "list before:  []\n",
            "list after:  ['hy', 'hy', 'hy']\n"
          ]
        }
      ]
    },
    {
      "cell_type": "code",
      "source": [
        "# 05_get_first_element\n",
        "\n",
        "def get_first_element(lst):\n",
        "    \"\"\"\n",
        "    Prints the first element of a provided list.\n",
        "    \"\"\"\n",
        "    if lst:\n",
        "        print(\"First element:\", lst[0])\n",
        "    else:\n",
        "        print(\"The list is empty.\")\n",
        "\n",
        "def get_list():\n",
        "    \"\"\"\n",
        "    Prompts the user to enter one element of the list at a time and returns the resulting list.\n",
        "    \"\"\"\n",
        "    lst = []\n",
        "    while True:\n",
        "        element = input(\"Enter an element of the list (or press Enter to finish): \")\n",
        "        if element == \"\":\n",
        "            break\n",
        "        lst.append(element)\n",
        "    return lst\n",
        "\n",
        "def main():\n",
        "    lst = get_list()  # Get the list from the user\n",
        "    get_first_element(lst)  # Print the first element\n",
        "\n",
        "if __name__ == \"__main__\":\n",
        "    main()\n",
        "\n"
      ],
      "metadata": {
        "colab": {
          "base_uri": "https://localhost:8080/"
        },
        "id": "lkC5aJ3rGnG_",
        "outputId": "77f5dcbb-d2dc-4c8b-86ea-bcc8564221ab"
      },
      "execution_count": null,
      "outputs": [
        {
          "output_type": "stream",
          "name": "stdout",
          "text": [
            "Enter an element of the list (or press Enter to finish): hello\n",
            "Enter an element of the list (or press Enter to finish): world\n",
            "Enter an element of the list (or press Enter to finish): \n",
            "First element: hello\n"
          ]
        }
      ]
    },
    {
      "cell_type": "code",
      "source": [
        "# 06_get_last_element\n",
        "\n",
        "def get_last_element(lst):\n",
        " \"\"\" Prints the last element of the provided list. \"\"\"\n",
        "\n",
        " print(lst[len(lst) - 1])\n",
        "\n",
        " print(lst[-1])\n",
        "\n",
        "\n",
        "def get_lst():\n",
        "   \"\"\" Prompts the user to enter one element of the list at a time and returns the resulting list. \"\"\"\n",
        "   lst = []\n",
        "   element = input(\" enter an element of the list or press enter to stop. \")\n",
        "\n",
        "   while element != \"\":\n",
        "    lst.append(element)\n",
        "    element = input(\" enter an element of the list or press enter to stop. \")\n",
        "\n",
        "   return lst\n",
        "\n",
        "\n",
        "def main():\n",
        "  lst = get_lst()\n",
        "  get_last_element(lst)\n",
        "\n",
        "if __name__ == \"__main__\":\n",
        "   main()\n"
      ],
      "metadata": {
        "colab": {
          "base_uri": "https://localhost:8080/"
        },
        "id": "vNT7LWtNI8dH",
        "outputId": "4ce5e3ad-5ce3-412e-ff5b-0172b59c242e"
      },
      "execution_count": null,
      "outputs": [
        {
          "output_type": "stream",
          "name": "stdout",
          "text": [
            " enter an element of the list or press enter to stop. hello i m abdul salam\n",
            " enter an element of the list or press enter to stop. how are you\n",
            " enter an element of the list or press enter to stop. \n",
            "how are you\n",
            "how are you\n"
          ]
        }
      ]
    },
    {
      "cell_type": "code",
      "source": [
        "# 07_get_list\n",
        "\n",
        "def main():\n",
        "  lst = []  # Make an empty list to store things in\n",
        "  val = input(\"Enter a value: \")\n",
        "\n",
        "  while val: # While the user input isn't an empty value\n",
        "    lst.append(val) # add val to lsit\n",
        "\n",
        "    val = input(\"Enter a value: \") # Get the next value to add\n",
        "\n",
        "    print(\"Here is the list: \", lst)\n",
        "if __name__ == \"__main__\":\n",
        "  main()"
      ],
      "metadata": {
        "id": "DmWb_1uCNR3I",
        "colab": {
          "base_uri": "https://localhost:8080/"
        },
        "outputId": "112764a4-7c5b-4c3b-d04c-c8332bfc080b"
      },
      "execution_count": 122,
      "outputs": [
        {
          "output_type": "stream",
          "name": "stdout",
          "text": [
            "Enter a value: one\n",
            "Enter a value: two\n",
            "Here is the list:  ['one']\n",
            "Enter a value: three\n",
            "Here is the list:  ['one', 'two']\n",
            "Enter a value: four\n",
            "Here is the list:  ['one', 'two', 'three']\n",
            "Enter a value: \n",
            "Here is the list:  ['one', 'two', 'three', 'four']\n"
          ]
        }
      ]
    },
    {
      "cell_type": "code",
      "source": [
        "# 08_shorten\n",
        "\n",
        "MAX_LENGTH: int = 3\n",
        "def shorten(lst):\n",
        "  while len(lst) > MAX_LENGTH:\n",
        "    last_element = lst.pop()\n",
        "    print(last_element)\n",
        "\n",
        "def get_lst():\n",
        "    \"\"\"\n",
        "    Prompts the user to enter one element of the list at a time and returns the resulting list...\n",
        "    \"\"\"\n",
        "\n",
        "    lst = []\n",
        "    element = input(\"Enter an element of the list or ( Press enter to stop ) \")\n",
        "\n",
        "    while element != \"\":\n",
        "      lst.append(element)\n",
        "      element = input(\"Enter an element of the list or ( Press enter to stop ) \")\n",
        "\n",
        "    return lst\n",
        "\n",
        "def main():\n",
        "  lst = get_lst()\n",
        "  shorten(lst)\n",
        "if __name__ == \"__main__\":\n",
        "  main()\n",
        ""
      ],
      "metadata": {
        "id": "_gvSdBAsVVbD",
        "colab": {
          "base_uri": "https://localhost:8080/"
        },
        "outputId": "50a9b2ca-90ec-4df2-eebe-7b6f08488f82"
      },
      "execution_count": 119,
      "outputs": [
        {
          "name": "stdout",
          "output_type": "stream",
          "text": [
            "Enter an element of the list or ( Press enter to stop ) hello\n",
            "Enter an element of the list or ( Press enter to stop ) hye\n",
            "Enter an element of the list or ( Press enter to stop ) bye\n",
            "Enter an element of the list or ( Press enter to stop ) \n"
          ]
        }
      ]
    }
  ]
}